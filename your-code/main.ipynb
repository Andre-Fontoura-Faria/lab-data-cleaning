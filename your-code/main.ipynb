{
 "cells": [
  {
   "cell_type": "markdown",
   "metadata": {},
   "source": [
    "#### 1. Import pandas library"
   ]
  },
  {
   "cell_type": "code",
   "execution_count": 17,
   "metadata": {},
   "outputs": [],
   "source": [
    "import pandas as pd "
   ]
  },
  {
   "cell_type": "markdown",
   "metadata": {},
   "source": [
    "#### 2. Import users table:"
   ]
  },
  {
   "cell_type": "code",
   "execution_count": 18,
   "metadata": {},
   "outputs": [
    {
     "name": "stdout",
     "output_type": "stream",
     "text": [
      "          Id  Reputation         CreationDate     DisplayName  \\\n",
      "0         -1           1  2010-07-19 06:55:26       Community   \n",
      "1          2         101  2010-07-19 14:01:36    Geoff Dalgas   \n",
      "2          3         101  2010-07-19 15:34:50    Jarrod Dixon   \n",
      "3          4         101  2010-07-19 19:03:27          Emmett   \n",
      "4          5        6792  2010-07-19 19:03:57           Shane   \n",
      "...      ...         ...                  ...             ...   \n",
      "40320  55743           1  2014-09-13 21:03:50       AussieMeg   \n",
      "40321  55744           6  2014-09-13 21:39:30       Mia Maria   \n",
      "40322  55745         101  2014-09-13 23:45:27    tronbabylove   \n",
      "40323  55746         106  2014-09-14 00:29:41             GPP   \n",
      "40324  55747           1  2014-09-14 01:01:44  Shivam Agrawal   \n",
      "\n",
      "            LastAccessDate                      WebsiteUrl  \\\n",
      "0      2010-07-19 06:55:26  http://meta.stackexchange.com/   \n",
      "1      2013-11-12 22:07:23        http://stackoverflow.com   \n",
      "2      2014-08-08 06:42:58        http://stackoverflow.com   \n",
      "3      2014-01-02 09:31:02    http://minesweeperonline.com   \n",
      "4      2014-08-13 00:23:47         http://www.statalgo.com   \n",
      "...                    ...                             ...   \n",
      "40320  2014-09-13 21:18:52                             NaN   \n",
      "40321  2014-09-13 21:39:30                             NaN   \n",
      "40322  2014-09-13 23:45:27                             NaN   \n",
      "40323  2014-09-14 02:05:17                             NaN   \n",
      "40324  2014-09-14 01:19:04                             NaN   \n",
      "\n",
      "                 Location                                            AboutMe  \\\n",
      "0      on the server farm  <p>Hi, I'm not really a person.</p>\\r\\n\\r\\n<p>...   \n",
      "1           Corvallis, OR  <p>Developer on the StackOverflow team.  Find ...   \n",
      "2            New York, NY  <p><a href=\"http://blog.stackoverflow.com/2009...   \n",
      "3       San Francisco, CA  <p>currently at a startup in SF</p>\\r\\n\\r\\n<p>...   \n",
      "4            New York, NY  <p>Quantitative researcher focusing on statist...   \n",
      "...                   ...                                                ...   \n",
      "40320                 NaN                                                NaN   \n",
      "40321                 NaN                                                NaN   \n",
      "40322       United States                                                NaN   \n",
      "40323                 NaN  <p>Stats noobie, product, marketing &amp; medi...   \n",
      "40324               India                       <p>Maths Enthusiast </p>\\r\\n   \n",
      "\n",
      "       Views  UpVotes  DownVotes  AccountId   Age  \\\n",
      "0          0     5007       1920         -1   NaN   \n",
      "1         25        3          0          2  37.0   \n",
      "2         22       19          0          3  35.0   \n",
      "3         11        0          0       1998  28.0   \n",
      "4       1145      662          5      54503  35.0   \n",
      "...      ...      ...        ...        ...   ...   \n",
      "40320      0        0          0    5026902   NaN   \n",
      "40321      1        0          0    5026998   NaN   \n",
      "40322      0        0          0     481766   NaN   \n",
      "40323      1        0          0     976289   NaN   \n",
      "40324      0        0          0    5027354   NaN   \n",
      "\n",
      "                                         ProfileImageUrl  \n",
      "0                                                    NaN  \n",
      "1                                                    NaN  \n",
      "2                                                    NaN  \n",
      "3                     http://i.stack.imgur.com/d1oHX.jpg  \n",
      "4                                                    NaN  \n",
      "...                                                  ...  \n",
      "40320  http://graph.facebook.com/665821703/picture?ty...  \n",
      "40321                                                NaN  \n",
      "40322  https://www.gravatar.com/avatar/faa7a3fdbd8308...  \n",
      "40323  https://www.gravatar.com/avatar/6d9e9fa6b783a3...  \n",
      "40324  https://lh4.googleusercontent.com/-ZsXhwVaFmiY...  \n",
      "\n",
      "[40325 rows x 14 columns]\n"
     ]
    }
   ],
   "source": [
    "import pandas as pd\n",
    "\n",
    "users_data = pd.read_csv('./datasets/users_table.csv')\n",
    "print(users_data)"
   ]
  },
  {
   "cell_type": "markdown",
   "metadata": {},
   "source": [
    "#### 3. Rename Id column to userId"
   ]
  },
  {
   "cell_type": "code",
   "execution_count": 19,
   "metadata": {},
   "outputs": [
    {
     "name": "stdout",
     "output_type": "stream",
     "text": [
      "       userId  Reputation         CreationDate     DisplayName  \\\n",
      "0          -1           1  2010-07-19 06:55:26       Community   \n",
      "1           2         101  2010-07-19 14:01:36    Geoff Dalgas   \n",
      "2           3         101  2010-07-19 15:34:50    Jarrod Dixon   \n",
      "3           4         101  2010-07-19 19:03:27          Emmett   \n",
      "4           5        6792  2010-07-19 19:03:57           Shane   \n",
      "...       ...         ...                  ...             ...   \n",
      "40320   55743           1  2014-09-13 21:03:50       AussieMeg   \n",
      "40321   55744           6  2014-09-13 21:39:30       Mia Maria   \n",
      "40322   55745         101  2014-09-13 23:45:27    tronbabylove   \n",
      "40323   55746         106  2014-09-14 00:29:41             GPP   \n",
      "40324   55747           1  2014-09-14 01:01:44  Shivam Agrawal   \n",
      "\n",
      "            LastAccessDate                      WebsiteUrl  \\\n",
      "0      2010-07-19 06:55:26  http://meta.stackexchange.com/   \n",
      "1      2013-11-12 22:07:23        http://stackoverflow.com   \n",
      "2      2014-08-08 06:42:58        http://stackoverflow.com   \n",
      "3      2014-01-02 09:31:02    http://minesweeperonline.com   \n",
      "4      2014-08-13 00:23:47         http://www.statalgo.com   \n",
      "...                    ...                             ...   \n",
      "40320  2014-09-13 21:18:52                             NaN   \n",
      "40321  2014-09-13 21:39:30                             NaN   \n",
      "40322  2014-09-13 23:45:27                             NaN   \n",
      "40323  2014-09-14 02:05:17                             NaN   \n",
      "40324  2014-09-14 01:19:04                             NaN   \n",
      "\n",
      "                 Location                                            AboutMe  \\\n",
      "0      on the server farm  <p>Hi, I'm not really a person.</p>\\r\\n\\r\\n<p>...   \n",
      "1           Corvallis, OR  <p>Developer on the StackOverflow team.  Find ...   \n",
      "2            New York, NY  <p><a href=\"http://blog.stackoverflow.com/2009...   \n",
      "3       San Francisco, CA  <p>currently at a startup in SF</p>\\r\\n\\r\\n<p>...   \n",
      "4            New York, NY  <p>Quantitative researcher focusing on statist...   \n",
      "...                   ...                                                ...   \n",
      "40320                 NaN                                                NaN   \n",
      "40321                 NaN                                                NaN   \n",
      "40322       United States                                                NaN   \n",
      "40323                 NaN  <p>Stats noobie, product, marketing &amp; medi...   \n",
      "40324               India                       <p>Maths Enthusiast </p>\\r\\n   \n",
      "\n",
      "       Views  UpVotes  DownVotes  AccountId   Age  \\\n",
      "0          0     5007       1920         -1   NaN   \n",
      "1         25        3          0          2  37.0   \n",
      "2         22       19          0          3  35.0   \n",
      "3         11        0          0       1998  28.0   \n",
      "4       1145      662          5      54503  35.0   \n",
      "...      ...      ...        ...        ...   ...   \n",
      "40320      0        0          0    5026902   NaN   \n",
      "40321      1        0          0    5026998   NaN   \n",
      "40322      0        0          0     481766   NaN   \n",
      "40323      1        0          0     976289   NaN   \n",
      "40324      0        0          0    5027354   NaN   \n",
      "\n",
      "                                         ProfileImageUrl  \n",
      "0                                                    NaN  \n",
      "1                                                    NaN  \n",
      "2                                                    NaN  \n",
      "3                     http://i.stack.imgur.com/d1oHX.jpg  \n",
      "4                                                    NaN  \n",
      "...                                                  ...  \n",
      "40320  http://graph.facebook.com/665821703/picture?ty...  \n",
      "40321                                                NaN  \n",
      "40322  https://www.gravatar.com/avatar/faa7a3fdbd8308...  \n",
      "40323  https://www.gravatar.com/avatar/6d9e9fa6b783a3...  \n",
      "40324  https://lh4.googleusercontent.com/-ZsXhwVaFmiY...  \n",
      "\n",
      "[40325 rows x 14 columns]\n"
     ]
    }
   ],
   "source": [
    "users_data_0 = users_data.rename(columns={\"Id\": \"userId\"})\n",
    "print(users_data_0)"
   ]
  },
  {
   "cell_type": "markdown",
   "metadata": {},
   "source": [
    "#### 4. Import posts table:"
   ]
  },
  {
   "cell_type": "code",
   "execution_count": 20,
   "metadata": {},
   "outputs": [
    {
     "name": "stdout",
     "output_type": "stream",
     "text": [
      "          Id  PostTypeId  AcceptedAnswerId          CreaionDate  Score  \\\n",
      "0          1           1              15.0  2010-07-19 19:12:12     23   \n",
      "1          2           1              59.0  2010-07-19 19:12:57     22   \n",
      "2          3           1               5.0  2010-07-19 19:13:28     54   \n",
      "3          4           1             135.0  2010-07-19 19:13:31     13   \n",
      "4          5           2               NaN  2010-07-19 19:14:43     81   \n",
      "...      ...         ...               ...                  ...    ...   \n",
      "39995  48321           2               NaN  2013-01-23 09:00:01      0   \n",
      "39996  48322           2               NaN  2013-01-23 09:09:34      3   \n",
      "39997  48323           2               NaN  2013-01-23 09:16:44      1   \n",
      "39998  48324           2               NaN  2013-01-23 09:36:07      3   \n",
      "39999  48325           1               NaN  2013-01-23 09:44:07     -1   \n",
      "\n",
      "       ViewCount                                               Body  \\\n",
      "0         1278.0  <p>How should I elicit prior distributions fro...   \n",
      "1         8198.0  <p>In many different statistical methods there...   \n",
      "2         3613.0  <p>What are some valuable Statistical Analysis...   \n",
      "3         5224.0  <p>I have two groups of data.  Each with a dif...   \n",
      "4            NaN  <p>The R-project</p>\\n\\n<p><a href=\"http://www...   \n",
      "...          ...                                                ...   \n",
      "39995        NaN  <p>you can use the matlab codes for svm and co...   \n",
      "39996        NaN  <p>I use <a href=\"http://www.gnu.org/software/...   \n",
      "39997        NaN  <p>If I understand your question correctly, yo...   \n",
      "39998        NaN  <p>Doesn't really help you with your question,...   \n",
      "39999      116.0  <p>I have 10 vectors each having 100,000 point...   \n",
      "\n",
      "       OwnerUserId      LasActivityDate  \\\n",
      "0              8.0  2010-09-15 21:08:26   \n",
      "1             24.0  2012-11-12 09:21:54   \n",
      "2             18.0  2013-05-27 14:48:36   \n",
      "3             23.0  2010-09-08 03:00:19   \n",
      "4             23.0  2010-07-19 19:21:15   \n",
      "...            ...                  ...   \n",
      "39995      19966.0  2013-01-23 09:00:01   \n",
      "39996        892.0  2013-01-23 13:13:30   \n",
      "39997       2020.0  2013-01-23 09:16:44   \n",
      "39998      19914.0  2013-01-23 09:36:07   \n",
      "39999      19968.0  2013-02-22 11:23:54   \n",
      "\n",
      "                                                   Title  ... AnswerCount  \\\n",
      "0                          Eliciting priors from experts  ...         5.0   \n",
      "1                                     What is normality?  ...         7.0   \n",
      "2      What are some valuable Statistical Analysis op...  ...        19.0   \n",
      "3      Assessing the significance of differences in d...  ...         5.0   \n",
      "4                                                    NaN  ...         NaN   \n",
      "...                                                  ...  ...         ...   \n",
      "39995                                                NaN  ...         NaN   \n",
      "39996                                                NaN  ...         NaN   \n",
      "39997                                                NaN  ...         NaN   \n",
      "39998                                                NaN  ...         NaN   \n",
      "39999  are data sets obtained from a Normal distribut...  ...         2.0   \n",
      "\n",
      "       CommentCount  FavoriteCount  LastEditorUserId         LastEditDate  \\\n",
      "0                 1           14.0               NaN                  NaN   \n",
      "1                 1            8.0              88.0  2010-08-07 17:56:44   \n",
      "2                 4           36.0             183.0  2011-02-12 05:50:03   \n",
      "3                 2            2.0               NaN                  NaN   \n",
      "4                 3            NaN              23.0  2010-07-19 19:21:15   \n",
      "...             ...            ...               ...                  ...   \n",
      "39995             0            NaN               NaN                  NaN   \n",
      "39996             2            NaN             892.0  2013-01-23 13:13:30   \n",
      "39997             0            NaN               NaN                  NaN   \n",
      "39998             0            NaN               NaN                  NaN   \n",
      "39999             4            NaN               NaN                  NaN   \n",
      "\n",
      "        CommunityOwnedDate ParentId  ClosedDate OwnerDisplayName  \\\n",
      "0                      NaN      NaN         NaN              NaN   \n",
      "1                      NaN      NaN         NaN              NaN   \n",
      "2      2010-07-19 19:13:28      NaN         NaN              NaN   \n",
      "3                      NaN      NaN         NaN              NaN   \n",
      "4      2010-07-19 19:14:43      3.0         NaN              NaN   \n",
      "...                    ...      ...         ...              ...   \n",
      "39995                  NaN  45118.0         NaN              NaN   \n",
      "39996                  NaN  48311.0         NaN              NaN   \n",
      "39997                  NaN  48247.0         NaN              NaN   \n",
      "39998                  NaN  48297.0         NaN              NaN   \n",
      "39999                  NaN      NaN         NaN              NaN   \n",
      "\n",
      "      LastEditorDisplayName  \n",
      "0                       NaN  \n",
      "1                       NaN  \n",
      "2                       NaN  \n",
      "3                       NaN  \n",
      "4                       NaN  \n",
      "...                     ...  \n",
      "39995                   NaN  \n",
      "39996                   NaN  \n",
      "39997                   NaN  \n",
      "39998                   NaN  \n",
      "39999                   NaN  \n",
      "\n",
      "[40000 rows x 21 columns]\n"
     ]
    }
   ],
   "source": [
    "posts_data = pd.read_csv('./datasets/posts_table.csv')\n",
    "print(posts_data)"
   ]
  },
  {
   "cell_type": "markdown",
   "metadata": {},
   "source": [
    "#### 5. Rename Id column to postId and OwnerUserId to userId"
   ]
  },
  {
   "cell_type": "code",
   "execution_count": 21,
   "metadata": {},
   "outputs": [
    {
     "name": "stdout",
     "output_type": "stream",
     "text": [
      "       postId  PostTypeId  AcceptedAnswerId          CreaionDate  Score  \\\n",
      "0           1           1              15.0  2010-07-19 19:12:12     23   \n",
      "1           2           1              59.0  2010-07-19 19:12:57     22   \n",
      "2           3           1               5.0  2010-07-19 19:13:28     54   \n",
      "3           4           1             135.0  2010-07-19 19:13:31     13   \n",
      "4           5           2               NaN  2010-07-19 19:14:43     81   \n",
      "...       ...         ...               ...                  ...    ...   \n",
      "39995   48321           2               NaN  2013-01-23 09:00:01      0   \n",
      "39996   48322           2               NaN  2013-01-23 09:09:34      3   \n",
      "39997   48323           2               NaN  2013-01-23 09:16:44      1   \n",
      "39998   48324           2               NaN  2013-01-23 09:36:07      3   \n",
      "39999   48325           1               NaN  2013-01-23 09:44:07     -1   \n",
      "\n",
      "       ViewCount                                               Body   userId  \\\n",
      "0         1278.0  <p>How should I elicit prior distributions fro...      8.0   \n",
      "1         8198.0  <p>In many different statistical methods there...     24.0   \n",
      "2         3613.0  <p>What are some valuable Statistical Analysis...     18.0   \n",
      "3         5224.0  <p>I have two groups of data.  Each with a dif...     23.0   \n",
      "4            NaN  <p>The R-project</p>\\n\\n<p><a href=\"http://www...     23.0   \n",
      "...          ...                                                ...      ...   \n",
      "39995        NaN  <p>you can use the matlab codes for svm and co...  19966.0   \n",
      "39996        NaN  <p>I use <a href=\"http://www.gnu.org/software/...    892.0   \n",
      "39997        NaN  <p>If I understand your question correctly, yo...   2020.0   \n",
      "39998        NaN  <p>Doesn't really help you with your question,...  19914.0   \n",
      "39999      116.0  <p>I have 10 vectors each having 100,000 point...  19968.0   \n",
      "\n",
      "           LasActivityDate                                              Title  \\\n",
      "0      2010-09-15 21:08:26                      Eliciting priors from experts   \n",
      "1      2012-11-12 09:21:54                                 What is normality?   \n",
      "2      2013-05-27 14:48:36  What are some valuable Statistical Analysis op...   \n",
      "3      2010-09-08 03:00:19  Assessing the significance of differences in d...   \n",
      "4      2010-07-19 19:21:15                                                NaN   \n",
      "...                    ...                                                ...   \n",
      "39995  2013-01-23 09:00:01                                                NaN   \n",
      "39996  2013-01-23 13:13:30                                                NaN   \n",
      "39997  2013-01-23 09:16:44                                                NaN   \n",
      "39998  2013-01-23 09:36:07                                                NaN   \n",
      "39999  2013-02-22 11:23:54  are data sets obtained from a Normal distribut...   \n",
      "\n",
      "       ... AnswerCount  CommentCount  FavoriteCount  LastEditorUserId  \\\n",
      "0      ...         5.0             1           14.0               NaN   \n",
      "1      ...         7.0             1            8.0              88.0   \n",
      "2      ...        19.0             4           36.0             183.0   \n",
      "3      ...         5.0             2            2.0               NaN   \n",
      "4      ...         NaN             3            NaN              23.0   \n",
      "...    ...         ...           ...            ...               ...   \n",
      "39995  ...         NaN             0            NaN               NaN   \n",
      "39996  ...         NaN             2            NaN             892.0   \n",
      "39997  ...         NaN             0            NaN               NaN   \n",
      "39998  ...         NaN             0            NaN               NaN   \n",
      "39999  ...         2.0             4            NaN               NaN   \n",
      "\n",
      "              LastEditDate   CommunityOwnedDate ParentId  ClosedDate  \\\n",
      "0                      NaN                  NaN      NaN         NaN   \n",
      "1      2010-08-07 17:56:44                  NaN      NaN         NaN   \n",
      "2      2011-02-12 05:50:03  2010-07-19 19:13:28      NaN         NaN   \n",
      "3                      NaN                  NaN      NaN         NaN   \n",
      "4      2010-07-19 19:21:15  2010-07-19 19:14:43      3.0         NaN   \n",
      "...                    ...                  ...      ...         ...   \n",
      "39995                  NaN                  NaN  45118.0         NaN   \n",
      "39996  2013-01-23 13:13:30                  NaN  48311.0         NaN   \n",
      "39997                  NaN                  NaN  48247.0         NaN   \n",
      "39998                  NaN                  NaN  48297.0         NaN   \n",
      "39999                  NaN                  NaN      NaN         NaN   \n",
      "\n",
      "      OwnerDisplayName LastEditorDisplayName  \n",
      "0                  NaN                   NaN  \n",
      "1                  NaN                   NaN  \n",
      "2                  NaN                   NaN  \n",
      "3                  NaN                   NaN  \n",
      "4                  NaN                   NaN  \n",
      "...                ...                   ...  \n",
      "39995              NaN                   NaN  \n",
      "39996              NaN                   NaN  \n",
      "39997              NaN                   NaN  \n",
      "39998              NaN                   NaN  \n",
      "39999              NaN                   NaN  \n",
      "\n",
      "[40000 rows x 21 columns]\n"
     ]
    }
   ],
   "source": [
    "posts_data_0 = posts_data.rename(columns={\"Id\":\"postId\",\"OwnerUserId\": \"userId\"})\n",
    "print(posts_data_0)"
   ]
  },
  {
   "cell_type": "markdown",
   "metadata": {},
   "source": [
    "#### 6. Define new dataframes for users and posts with the following selected columns:\n",
    "    **users columns**: userId, Reputation,Views,UpVotes,DownVotes\n",
    "    **posts columns**: postId, Score,userId,ViewCount,CommentCount"
   ]
  },
  {
   "cell_type": "code",
   "execution_count": 22,
   "metadata": {},
   "outputs": [],
   "source": [
    "users = users_data_0[['userId', 'Reputation', 'Views', 'UpVotes', 'DownVotes']]\n",
    "\n",
    "posts = posts_data_0[['postId', 'Score', 'userId', 'ViewCount', 'CommentCount']]"
   ]
  },
  {
   "cell_type": "markdown",
   "metadata": {},
   "source": [
    "#### 7. Merge both dataframes, users and posts. \n",
    "You will need to make a [merge](https://pandas.pydata.org/pandas-docs/stable/generated/pandas.DataFrame.merge.html) of posts and users dataframes."
   ]
  },
  {
   "cell_type": "code",
   "execution_count": 23,
   "metadata": {},
   "outputs": [
    {
     "name": "stdout",
     "output_type": "stream",
     "text": [
      "       postId  Score   userId  ViewCount  CommentCount  Reputation  Views  \\\n",
      "0           1     23      8.0     1278.0             1        6764   1089   \n",
      "1          16     16      8.0        NaN             3        6764   1089   \n",
      "2          36     41      8.0    67396.0             7        6764   1089   \n",
      "3          65     14      8.0        NaN             3        6764   1089   \n",
      "4          78     33      8.0        NaN             4        6764   1089   \n",
      "...       ...    ...      ...        ...           ...         ...    ...   \n",
      "38957   48313     -1  19735.0        NaN             1           1      5   \n",
      "38958   48317      8  19960.0     1894.0             1         153      9   \n",
      "38959   48318      0  19962.0       52.0             4           1      1   \n",
      "38960   48321      0  19966.0        NaN             0           1      1   \n",
      "38961   48325     -1  19968.0      116.0             4           1      1   \n",
      "\n",
      "       UpVotes  DownVotes  \n",
      "0          604         25  \n",
      "1          604         25  \n",
      "2          604         25  \n",
      "3          604         25  \n",
      "4          604         25  \n",
      "...        ...        ...  \n",
      "38957        0          0  \n",
      "38958       18          0  \n",
      "38959        0          0  \n",
      "38960        0          0  \n",
      "38961        0          0  \n",
      "\n",
      "[38962 rows x 9 columns]\n"
     ]
    }
   ],
   "source": [
    "merge = pd.merge(posts, users)\n",
    "print(merge)"
   ]
  },
  {
   "cell_type": "markdown",
   "metadata": {},
   "source": [
    "#### 8. How many missing values do you have in your merged dataframe? On which columns?"
   ]
  },
  {
   "cell_type": "code",
   "execution_count": 24,
   "metadata": {},
   "outputs": [
    {
     "data": {
      "text/plain": [
       "postId              0\n",
       "Score               0\n",
       "userId              0\n",
       "ViewCount       23572\n",
       "CommentCount        0\n",
       "Reputation          0\n",
       "Views               0\n",
       "UpVotes             0\n",
       "DownVotes           0\n",
       "dtype: int64"
      ]
     },
     "execution_count": 24,
     "metadata": {},
     "output_type": "execute_result"
    }
   ],
   "source": [
    "merge.isnull()\n",
    "merge.isnull().sum()\n",
    "\n",
    "# there is 23572 missing values in the column ViewCount. \n"
   ]
  },
  {
   "cell_type": "markdown",
   "metadata": {},
   "source": [
    "#### 9. You will need to make something with missing values.  Will you clean or filling them? Explain. \n",
    "**Remember** to check the results of your code before passing to the next step"
   ]
  },
  {
   "cell_type": "code",
   "execution_count": 10,
   "metadata": {},
   "outputs": [],
   "source": [
    "#Since the number of missing values in the \"ViewCount\" column is very high (around 60% of the total rows), it is not recommended to remove those rows. Instead, we can consider filling the missing values using appropriate techniques.\n",
    "\n",
    "#As mentioned in the class script, we can fill the missing values in the \"ViewCount\" column with the mean or median value of the column. Here's the code to do that using the mean:\n",
    "\n",
    "merge[\"ViewCount\"] = merge[\"ViewCount\"].fillna(merge[\"ViewCount\"].mean())\n"
   ]
  },
  {
   "cell_type": "markdown",
   "metadata": {},
   "source": [
    "#### 10. Adjust the data types in order to avoid future issues. Which ones should be changed? "
   ]
  },
  {
   "cell_type": "code",
   "execution_count": 25,
   "metadata": {},
   "outputs": [
    {
     "name": "stdout",
     "output_type": "stream",
     "text": [
      "       postId  Score   userId  ViewCount  CommentCount  Reputation  Views  \\\n",
      "0           1     23      8.0     1278.0             1        6764   1089   \n",
      "1          16     16      8.0        NaN             3        6764   1089   \n",
      "2          36     41      8.0    67396.0             7        6764   1089   \n",
      "3          65     14      8.0        NaN             3        6764   1089   \n",
      "4          78     33      8.0        NaN             4        6764   1089   \n",
      "...       ...    ...      ...        ...           ...         ...    ...   \n",
      "38957   48313     -1  19735.0        NaN             1           1      5   \n",
      "38958   48317      8  19960.0     1894.0             1         153      9   \n",
      "38959   48318      0  19962.0       52.0             4           1      1   \n",
      "38960   48321      0  19966.0        NaN             0           1      1   \n",
      "38961   48325     -1  19968.0      116.0             4           1      1   \n",
      "\n",
      "       UpVotes  DownVotes  \n",
      "0          604         25  \n",
      "1          604         25  \n",
      "2          604         25  \n",
      "3          604         25  \n",
      "4          604         25  \n",
      "...        ...        ...  \n",
      "38957        0          0  \n",
      "38958       18          0  \n",
      "38959        0          0  \n",
      "38960        0          0  \n",
      "38961        0          0  \n",
      "\n",
      "[38962 rows x 9 columns]\n"
     ]
    }
   ],
   "source": [
    "#The reason we changed the data type of \"ViewCount\" column to 'float64' is because it contains missing values, represented by NaN. In Pandas, integer data type columns cannot have missing values. Therefore, if we tried to change the data type of \"ViewCount\" to 'int32', it would raise an error because of the missing values.\n",
    "\n",
    "#By changing the data type to 'float64', we allow for the presence of missing values in the column. 'float64' is a data type that supports both numerical values and missing values, which makes it a suitable choice for columns that may contain NaN values.\n",
    "\n",
    "#Therefore, in order to avoid future issues with the analysis and modeling of the data, we need to ensure that the data types of our columns are appropriate and consistent with the values they contain.\n",
    "\n",
    "merge['ViewCount'] = merge['ViewCount'].astype('float64')\n",
    "\n",
    "print(merge)"
   ]
  },
  {
   "cell_type": "code",
   "execution_count": null,
   "metadata": {},
   "outputs": [],
   "source": []
  }
 ],
 "metadata": {
  "kernelspec": {
   "display_name": "Python 3 (ipykernel)",
   "language": "python",
   "name": "python3"
  },
  "language_info": {
   "codemirror_mode": {
    "name": "ipython",
    "version": 3
   },
   "file_extension": ".py",
   "mimetype": "text/x-python",
   "name": "python",
   "nbconvert_exporter": "python",
   "pygments_lexer": "ipython3",
   "version": "3.9.13"
  }
 },
 "nbformat": 4,
 "nbformat_minor": 2
}
